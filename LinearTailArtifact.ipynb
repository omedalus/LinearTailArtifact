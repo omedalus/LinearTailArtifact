{
 "cells": [
  {
   "cell_type": "markdown",
   "metadata": {},
   "source": [
    "# Investigation of a Linear Tail Artifact in a Graph of COVID-19 Deaths fro the CDC\n",
    "\n",
    "Through 2020Q2, the CDC has been tracking the total number of deaths in the US that were \"confirmed or presumed COVID-19\". The raw data of weekly deaths is accessible in table form here (though it is subject to change retroactively, which is ultimately the point of this lab):\n",
    "\n",
    "https://www.cdc.gov/nchs/nvss/vsrr/covid19/index.htm\n",
    "\n",
    "When plotted, the CDC's data looks like this:\n",
    "\n",
    "![CDC Official Provisional Count of COVID-19 Deaths Per Week](cdc-graph-image.jpg)\n",
    "\n",
    "## Observed Anomaly\n",
    "\n",
    "The almost perfectly linear decline since mid-April (conveniently sloped to reach 0 exactly next week -- presumably whichever week you look at it, per the Copernican Principle) is truly bizarre, and clearly an artifact resulting from some kind of bias. However, most forms of bias introduce errors *proportional to* the phenomenon being measured, which would, when graphed, still depict a geometric curve -- perhaps compressed or inflated or offset, but nonetheless geometric. A bias that introduces a perfect linear tail in the temporal domain like that is truly unusual. \n",
    "\n",
    "## Hypothesis\n",
    "\n",
    "It's my belief that the linear tail is being caused by a reporting bottleneck at the CDC. That is, I believe there's some desk out there that can only record X number of cases per week, and does so with a random sampling of the cases in the backlog. The purpose of this lab is to model such a bottleneck and see if it generates a graph with a linear tail like the one seen.\n",
    "\n",
    "### Provisional support for hypothesis.\n",
    "\n",
    "I had conjectured earlier that, if the CDC had a fixed-rate processing bottleneck for an exponentially growing backlog of death reports, then we'd see the start of the linear downslope advancing forward in time at a rate slower than the passage of actual time. An examination of the CDC's table with the help of the Wayback Machine confirms that this is the case.\n",
    "\n",
    "According to the reported totals as of May 3, the peak of weekly deaths occurred on 4/11, with 12,262 deaths provisionally reported in that week. [WayBack Machine snapshot 2020-05-03](https://web.archive.org/web/20200503223517/https://www.cdc.gov/nchs/nvss/vsrr/covid19/index.htm)\n",
    "\n",
    "It wasn't until May 24, three weeks later, that the reported peak advanced by one week, to 4/18, with 15,311 deaths provisionally reported in that week. By that time, the 4/11 total had climbed to 15,031. [Wayback Machine snapshot 2020-05-24](https://web.archive.org/web/20200524200037/https://www.cdc.gov/nchs/nvss/vsrr/covid19/index.htm)\n",
    "\n",
    "So it does appear that, according to the historical data, there is a growing backlog of reports that are being processed at a constant rate."
   ]
  },
  {
   "cell_type": "markdown",
   "metadata": {},
   "source": [
    "## Setup\n",
    "\n",
    "Let's get our tools in order first."
   ]
  },
  {
   "cell_type": "code",
   "execution_count": 1,
   "metadata": {},
   "outputs": [],
   "source": [
    "import pandas as pd\n",
    "from datetime import datetime\n",
    "import numpy as np"
   ]
  },
  {
   "cell_type": "code",
   "execution_count": 37,
   "metadata": {},
   "outputs": [
    {
     "data": {
      "text/plain": [
       "DatetimeIndex(['2020-02-01', '2020-02-08', '2020-02-15', '2020-02-22',\n",
       "               '2020-02-29', '2020-03-07', '2020-03-14', '2020-03-21',\n",
       "               '2020-03-28', '2020-04-04', '2020-04-11', '2020-04-18',\n",
       "               '2020-04-25', '2020-05-02', '2020-05-09', '2020-05-16',\n",
       "               '2020-05-23', '2020-05-30', '2020-06-06', '2020-06-13',\n",
       "               '2020-06-20', '2020-06-27'],\n",
       "              dtype='datetime64[ns]', freq='7D')"
      ]
     },
     "execution_count": 37,
     "metadata": {},
     "output_type": "execute_result"
    }
   ],
   "source": [
    "# Create a date range that we'll use for all our subsequent experiments.\n",
    "# This date range is inspired by the CDC's actual data.\n",
    "\n",
    "daterange = pd.date_range(start='2/1/2020', end='7/1/2020', freq='7D')\n",
    "daterange"
   ]
  },
  {
   "cell_type": "code",
   "execution_count": 38,
   "metadata": {},
   "outputs": [
    {
     "data": {
      "text/plain": [
       "Series([], dtype: object)"
      ]
     },
     "execution_count": 38,
     "metadata": {},
     "output_type": "execute_result"
    }
   ],
   "source": [
    "# Create a data frame using the time series as an index.\n",
    "\n",
    "df_init = pd.DataFrame({'date': daterange}).set_index('date')\n",
    "df_init.dtypes"
   ]
  },
  {
   "cell_type": "code",
   "execution_count": 62,
   "metadata": {},
   "outputs": [
    {
     "data": {
      "text/html": [
       "<div>\n",
       "<style scoped>\n",
       "    .dataframe tbody tr th:only-of-type {\n",
       "        vertical-align: middle;\n",
       "    }\n",
       "\n",
       "    .dataframe tbody tr th {\n",
       "        vertical-align: top;\n",
       "    }\n",
       "\n",
       "    .dataframe thead th {\n",
       "        text-align: right;\n",
       "    }\n",
       "</style>\n",
       "<table border=\"1\" class=\"dataframe\">\n",
       "  <thead>\n",
       "    <tr style=\"text-align: right;\">\n",
       "      <th></th>\n",
       "      <th>num_deaths_occurred_this_week</th>\n",
       "    </tr>\n",
       "    <tr>\n",
       "      <th>date</th>\n",
       "      <th></th>\n",
       "    </tr>\n",
       "  </thead>\n",
       "  <tbody>\n",
       "    <tr>\n",
       "      <th>2020-02-01</th>\n",
       "      <td>0</td>\n",
       "    </tr>\n",
       "    <tr>\n",
       "      <th>2020-02-08</th>\n",
       "      <td>0</td>\n",
       "    </tr>\n",
       "    <tr>\n",
       "      <th>2020-02-15</th>\n",
       "      <td>0</td>\n",
       "    </tr>\n",
       "    <tr>\n",
       "      <th>2020-02-22</th>\n",
       "      <td>5</td>\n",
       "    </tr>\n",
       "    <tr>\n",
       "      <th>2020-02-29</th>\n",
       "      <td>19</td>\n",
       "    </tr>\n",
       "    <tr>\n",
       "      <th>2020-03-07</th>\n",
       "      <td>69</td>\n",
       "    </tr>\n",
       "    <tr>\n",
       "      <th>2020-03-14</th>\n",
       "      <td>237</td>\n",
       "    </tr>\n",
       "    <tr>\n",
       "      <th>2020-03-21</th>\n",
       "      <td>760</td>\n",
       "    </tr>\n",
       "    <tr>\n",
       "      <th>2020-03-28</th>\n",
       "      <td>2264</td>\n",
       "    </tr>\n",
       "    <tr>\n",
       "      <th>2020-04-04</th>\n",
       "      <td>6226</td>\n",
       "    </tr>\n",
       "    <tr>\n",
       "      <th>2020-04-11</th>\n",
       "      <td>15689</td>\n",
       "    </tr>\n",
       "    <tr>\n",
       "      <th>2020-04-18</th>\n",
       "      <td>35927</td>\n",
       "    </tr>\n",
       "    <tr>\n",
       "      <th>2020-04-25</th>\n",
       "      <td>74009</td>\n",
       "    </tr>\n",
       "    <tr>\n",
       "      <th>2020-05-02</th>\n",
       "      <td>135436</td>\n",
       "    </tr>\n",
       "    <tr>\n",
       "      <th>2020-05-09</th>\n",
       "      <td>216697</td>\n",
       "    </tr>\n",
       "    <tr>\n",
       "      <th>2020-05-16</th>\n",
       "      <td>296874</td>\n",
       "    </tr>\n",
       "    <tr>\n",
       "      <th>2020-05-23</th>\n",
       "      <td>338436</td>\n",
       "    </tr>\n",
       "    <tr>\n",
       "      <th>2020-05-30</th>\n",
       "      <td>307976</td>\n",
       "    </tr>\n",
       "    <tr>\n",
       "      <th>2020-06-06</th>\n",
       "      <td>209423</td>\n",
       "    </tr>\n",
       "    <tr>\n",
       "      <th>2020-06-13</th>\n",
       "      <td>94240</td>\n",
       "    </tr>\n",
       "    <tr>\n",
       "      <th>2020-06-20</th>\n",
       "      <td>20732</td>\n",
       "    </tr>\n",
       "    <tr>\n",
       "      <th>2020-06-27</th>\n",
       "      <td>-207</td>\n",
       "    </tr>\n",
       "  </tbody>\n",
       "</table>\n",
       "</div>"
      ],
      "text/plain": [
       "            num_deaths_occurred_this_week\n",
       "date                                     \n",
       "2020-02-01                              0\n",
       "2020-02-08                              0\n",
       "2020-02-15                              0\n",
       "2020-02-22                              5\n",
       "2020-02-29                             19\n",
       "2020-03-07                             69\n",
       "2020-03-14                            237\n",
       "2020-03-21                            760\n",
       "2020-03-28                           2264\n",
       "2020-04-04                           6226\n",
       "2020-04-11                          15689\n",
       "2020-04-18                          35927\n",
       "2020-04-25                          74009\n",
       "2020-05-02                         135436\n",
       "2020-05-09                         216697\n",
       "2020-05-16                         296874\n",
       "2020-05-23                         338436\n",
       "2020-05-30                         307976\n",
       "2020-06-06                         209423\n",
       "2020-06-13                          94240\n",
       "2020-06-20                          20732\n",
       "2020-06-27                           -207"
      ]
     },
     "execution_count": 62,
     "metadata": {},
     "output_type": "execute_result"
    }
   ],
   "source": [
    "# Create a simulated spread of a disease through a population.\n",
    "\n",
    "# We'll say that, each week, the disease kills growthrate times as many people\n",
    "# as it had killed the week before.\n",
    "\n",
    "# We'll also say that the growth rate diminishes every week because of mitigation\n",
    "# measures. This appears to approximately model actual real-world behavior.\n",
    "\n",
    "# According to the CDC's data, on 2/22/2020 (week 3), 5 people died. \n",
    "# Then, in the week of 4/4/2020 (week 9), 9,516 people died. This implies\n",
    "# a weekly growth factor of about 3.5.\n",
    "\n",
    "growthrate = 3.9\n",
    "num_deaths_occurred_this_week = [0] * len(daterange)\n",
    "num_deaths_occurred_this_week[3] = 5\n",
    "\n",
    "# The growth from 4/4 to 4/11 was only 15,712/9,516 = 1.65\n",
    "# For the growth rate to be dropping from an initial 3.5 in week 3\n",
    "# to 1.65 in week 10, that means it's dropping by about 0.23 every week.\n",
    "\n",
    "for i in range(4, len(daterange)):\n",
    "    # Yes, I can do this parametrically, but I feel like this approach is more \"direct\".\n",
    "    # That is, it leaves less room for me to screw up on the off chance that a brainfart\n",
    "    # results in my temporary inability to do 7th-grade math.\n",
    "    lastweek_deathcount = num_deaths_occurred_this_week[i - 1]\n",
    "    num_deaths_occurred_this_week[i] = int(lastweek_deathcount * growthrate)\n",
    "    \n",
    "    # The growthrate declines due to mitigation measures\n",
    "    growthrate -= 0.23\n",
    "\n",
    "df_init['num_deaths_occurred_this_week'] = num_deaths_occurred_this_week\n",
    "df_init"
   ]
  },
  {
   "cell_type": "code",
   "execution_count": 63,
   "metadata": {},
   "outputs": [
    {
     "data": {
      "image/png": "[encoded data removed]",
      "text/plain": [
       "<Figure size 432x288 with 1 Axes>"
      ]
     },
     "metadata": {
      "needs_background": "light"
     },
     "output_type": "display_data"
    }
   ],
   "source": [
    "# Get our plotting tools in order.\n",
    "# We should see a nice smooth geometric curve.\n",
    "import matplotlib.pyplot as plt\n",
    "%matplotlib inline\n",
    "\n",
    "df_init.plot()\n",
    "plt.show()"
   ]
  },
  {
   "cell_type": "code",
   "execution_count": 6,
   "metadata": {},
   "outputs": [],
   "source": [
    "# One last thing. Let's import some libraries we'll rely on during our experiments.\n",
    "\n",
    "import random\n",
    "from datetime import timedelta\n"
   ]
  },
  {
   "cell_type": "markdown",
   "metadata": {},
   "source": [
    "# Experiment 1 (Controls): Delays of 6-8 weeks\n",
    "\n",
    "The first thing I'd like to do is to rule out the conjecture that reports are simply being delayed by \"up to 6 to 8 weeks\" (which really just means being delayed by 0 to 8 weeks). That's the claim made on the CDC website, but I don't believe that it adequately explains the linear downslope for a number of reasons. Chief among them is the fact that the downlope starts 11 weeks in the past as of the time of this writing!"
   ]
  },
  {
   "cell_type": "code",
   "execution_count": 7,
   "metadata": {},
   "outputs": [],
   "source": [
    "df_experiment = df_init.copy()"
   ]
  },
  {
   "cell_type": "markdown",
   "metadata": {},
   "source": [
    "## Experiment 1.a.: A uniform distribution from 0 to 8 weeks\n",
    "\n",
    "The claim of being \"delayed up up to 6 to 8 weeks\" can mean many things. The simplest thing I think it means is that there's a uniform reporting delay applied to each report; the report can be submitted immediately, or it can be stalled by up to 8 weeks. (I believe they say \"6 to 8 weeks\" on the website in order to placate impatient human users and to emphasize to laymen readers the uncertainty in the reporting.) In this model, a delay of more than 8 weeks is impossible. Let's see what happens."
   ]
  },
  {
   "cell_type": "code",
   "execution_count": 31,
   "metadata": {},
   "outputs": [
    {
     "data": {
      "text/html": [
       "<div>\n",
       "<style scoped>\n",
       "    .dataframe tbody tr th:only-of-type {\n",
       "        vertical-align: middle;\n",
       "    }\n",
       "\n",
       "    .dataframe tbody tr th {\n",
       "        vertical-align: top;\n",
       "    }\n",
       "\n",
       "    .dataframe thead th {\n",
       "        text-align: right;\n",
       "    }\n",
       "</style>\n",
       "<table border=\"1\" class=\"dataframe\">\n",
       "  <thead>\n",
       "    <tr style=\"text-align: right;\">\n",
       "      <th></th>\n",
       "      <th>num_deaths_occurred_this_week</th>\n",
       "      <th>deaths_counted</th>\n",
       "      <th>deaths_uncounted</th>\n",
       "      <th>deaths_reported_after_uniform_8wk_delay</th>\n",
       "    </tr>\n",
       "  </thead>\n",
       "  <tbody>\n",
       "    <tr>\n",
       "      <th>count</th>\n",
       "      <td>27.000000</td>\n",
       "      <td>27.000000</td>\n",
       "      <td>27.00000</td>\n",
       "      <td>27.000000</td>\n",
       "    </tr>\n",
       "    <tr>\n",
       "      <th>mean</th>\n",
       "      <td>7495.296296</td>\n",
       "      <td>575.666667</td>\n",
       "      <td>6919.62963</td>\n",
       "      <td>2773.111111</td>\n",
       "    </tr>\n",
       "    <tr>\n",
       "      <th>std</th>\n",
       "      <td>14289.292494</td>\n",
       "      <td>498.443809</td>\n",
       "      <td>14251.01044</td>\n",
       "      <td>3472.378029</td>\n",
       "    </tr>\n",
       "    <tr>\n",
       "      <th>min</th>\n",
       "      <td>10.000000</td>\n",
       "      <td>10.000000</td>\n",
       "      <td>0.00000</td>\n",
       "      <td>10.000000</td>\n",
       "    </tr>\n",
       "    <tr>\n",
       "      <th>25%</th>\n",
       "      <td>84.000000</td>\n",
       "      <td>84.000000</td>\n",
       "      <td>0.00000</td>\n",
       "      <td>84.000000</td>\n",
       "    </tr>\n",
       "    <tr>\n",
       "      <th>50%</th>\n",
       "      <td>730.000000</td>\n",
       "      <td>514.000000</td>\n",
       "      <td>0.00000</td>\n",
       "      <td>730.000000</td>\n",
       "    </tr>\n",
       "    <tr>\n",
       "      <th>75%</th>\n",
       "      <td>6583.000000</td>\n",
       "      <td>1018.000000</td>\n",
       "      <td>5426.50000</td>\n",
       "      <td>5444.500000</td>\n",
       "    </tr>\n",
       "    <tr>\n",
       "      <th>max</th>\n",
       "      <td>57819.000000</td>\n",
       "      <td>1395.000000</td>\n",
       "      <td>57510.00000</td>\n",
       "      <td>9781.000000</td>\n",
       "    </tr>\n",
       "  </tbody>\n",
       "</table>\n",
       "</div>"
      ],
      "text/plain": [
       "       num_deaths_occurred_this_week  deaths_counted  deaths_uncounted  \\\n",
       "count                      27.000000       27.000000          27.00000   \n",
       "mean                     7495.296296      575.666667        6919.62963   \n",
       "std                     14289.292494      498.443809       14251.01044   \n",
       "min                        10.000000       10.000000           0.00000   \n",
       "25%                        84.000000       84.000000           0.00000   \n",
       "50%                       730.000000      514.000000           0.00000   \n",
       "75%                      6583.000000     1018.000000        5426.50000   \n",
       "max                     57819.000000     1395.000000       57510.00000   \n",
       "\n",
       "       deaths_reported_after_uniform_8wk_delay  \n",
       "count                                27.000000  \n",
       "mean                               2773.111111  \n",
       "std                                3472.378029  \n",
       "min                                  10.000000  \n",
       "25%                                  84.000000  \n",
       "50%                                 730.000000  \n",
       "75%                                5444.500000  \n",
       "max                                9781.000000  "
      ]
     },
     "execution_count": 31,
     "metadata": {},
     "output_type": "execute_result"
    }
   ],
   "source": [
    "# We're going to do a total dumb brute-force approach and just iterate through every damn death!\n",
    "# We've picked seed and growth numbers that are small enough for this to be a feasible approach.\n",
    "\n",
    "df_experiment['deaths_reported_after_uniform_8wk_delay'] = 0\n",
    "\n",
    "last_date = df_experiment.index[-1]\n",
    "\n",
    "def report_deaths_with_uniform_distributed_8week_delay(row):\n",
    "    # The \"name\" field of a row object is how we get its index value.\n",
    "    rowdate = row.name\n",
    "    \n",
    "    deathcount = row['num_deaths_occurred_this_week']\n",
    "    for i in range(deathcount):\n",
    "        weeks_reporting_delay = random.randint(0, 8)\n",
    "        date_reporting = rowdate + timedelta(weeks_reporting_delay * 7)\n",
    "        if date_reporting > last_date:\n",
    "            # This death won't be reported within the timeframe that we're modeling.\n",
    "            # It occurred within the timeframe, but it won't be reported unti \"the future\".\n",
    "            continue\n",
    "            \n",
    "        df_experiment.loc[rowdate, 'deaths_reported_after_uniform_8wk_delay'] += 1\n",
    "        \n",
    "        \n",
    "df_experiment.apply(report_deaths_with_uniform_distributed_8week_delay, axis=1)\n",
    "df_experiment.describe()"
   ]
  },
  {
   "cell_type": "code",
   "execution_count": 32,
   "metadata": {},
   "outputs": [
    {
     "data": {
      "image/png": "[encoded data removed]",
      "text/plain": [
       "<Figure size 432x288 with 1 Axes>"
      ]
     },
     "metadata": {
      "needs_background": "light"
     },
     "output_type": "display_data"
    }
   ],
   "source": [
    "df_experiment.plot()\n",
    "plt.show()"
   ]
  },
  {
   "cell_type": "markdown",
   "metadata": {},
   "source": [
    "### Results\n",
    "\n",
    "As we can see, a simple reporting delay, in which each death is reported late by a random amount from anywhere from 0 to 8 weeks on a uniform distribution, doesn't produce a linear tail. It just creates an illusion of a right-shifted curve, but doesn't change its shape. "
   ]
  },
  {
   "cell_type": "markdown",
   "metadata": {},
   "source": [
    "## Experiment 1.b.: Gaussian delay of \"up to 6 to 8 weeks\"\n",
    "\n",
    "Here we assume that the claim of \"may be delayed up to 6 to 8 weeks\" means that the *average* delay is 4 weeks, *one* standard deviation is 6 weeks, *two* standard deviations is 8 weeks, and so on. This seems a little more believable than a flat uniform delay. In the strictest sense, it means that only 95% of reports are delivered within 8 weeks, so 5% of reports are actually delayed *more than* 8 weeks, which lays false the claim that reports are delayed \"up to\" 8 weeks -- but I'm sure the CDC would consider this observation to be a mere quibble."
   ]
  },
  {
   "cell_type": "code",
   "execution_count": 10,
   "metadata": {},
   "outputs": [
    {
     "data": {
      "text/html": [
       "<div>\n",
       "<style scoped>\n",
       "    .dataframe tbody tr th:only-of-type {\n",
       "        vertical-align: middle;\n",
       "    }\n",
       "\n",
       "    .dataframe tbody tr th {\n",
       "        vertical-align: top;\n",
       "    }\n",
       "\n",
       "    .dataframe thead th {\n",
       "        text-align: right;\n",
       "    }\n",
       "</style>\n",
       "<table border=\"1\" class=\"dataframe\">\n",
       "  <thead>\n",
       "    <tr style=\"text-align: right;\">\n",
       "      <th></th>\n",
       "      <th>num_deaths_occurred_this_week</th>\n",
       "      <th>deaths_reported_after_uniform_8wk_delay</th>\n",
       "      <th>deaths_reported_after_gaussian_delay</th>\n",
       "    </tr>\n",
       "  </thead>\n",
       "  <tbody>\n",
       "    <tr>\n",
       "      <th>count</th>\n",
       "      <td>27.000000</td>\n",
       "      <td>27.00000</td>\n",
       "      <td>27.000000</td>\n",
       "    </tr>\n",
       "    <tr>\n",
       "      <th>mean</th>\n",
       "      <td>7495.296296</td>\n",
       "      <td>2770.37037</td>\n",
       "      <td>2793.444444</td>\n",
       "    </tr>\n",
       "    <tr>\n",
       "      <th>std</th>\n",
       "      <td>14289.292494</td>\n",
       "      <td>5278.55295</td>\n",
       "      <td>5313.881642</td>\n",
       "    </tr>\n",
       "    <tr>\n",
       "      <th>min</th>\n",
       "      <td>10.000000</td>\n",
       "      <td>0.00000</td>\n",
       "      <td>0.000000</td>\n",
       "    </tr>\n",
       "    <tr>\n",
       "      <th>25%</th>\n",
       "      <td>84.000000</td>\n",
       "      <td>31.50000</td>\n",
       "      <td>29.500000</td>\n",
       "    </tr>\n",
       "    <tr>\n",
       "      <th>50%</th>\n",
       "      <td>730.000000</td>\n",
       "      <td>266.00000</td>\n",
       "      <td>268.000000</td>\n",
       "    </tr>\n",
       "    <tr>\n",
       "      <th>75%</th>\n",
       "      <td>6583.000000</td>\n",
       "      <td>2409.50000</td>\n",
       "      <td>2460.000000</td>\n",
       "    </tr>\n",
       "    <tr>\n",
       "      <th>max</th>\n",
       "      <td>57819.000000</td>\n",
       "      <td>21446.00000</td>\n",
       "      <td>21574.000000</td>\n",
       "    </tr>\n",
       "  </tbody>\n",
       "</table>\n",
       "</div>"
      ],
      "text/plain": [
       "       num_deaths_occurred_this_week  deaths_reported_after_uniform_8wk_delay  \\\n",
       "count                      27.000000                                 27.00000   \n",
       "mean                     7495.296296                               2770.37037   \n",
       "std                     14289.292494                               5278.55295   \n",
       "min                        10.000000                                  0.00000   \n",
       "25%                        84.000000                                 31.50000   \n",
       "50%                       730.000000                                266.00000   \n",
       "75%                      6583.000000                               2409.50000   \n",
       "max                     57819.000000                              21446.00000   \n",
       "\n",
       "       deaths_reported_after_gaussian_delay  \n",
       "count                             27.000000  \n",
       "mean                            2793.444444  \n",
       "std                             5313.881642  \n",
       "min                                0.000000  \n",
       "25%                               29.500000  \n",
       "50%                              268.000000  \n",
       "75%                             2460.000000  \n",
       "max                            21574.000000  "
      ]
     },
     "execution_count": 10,
     "metadata": {},
     "output_type": "execute_result"
    }
   ],
   "source": [
    "df_experiment['deaths_reported_after_gaussian_delay'] = 0\n",
    "\n",
    "def deaths_reported_after_gaussian_delay(row):\n",
    "    # The \"name\" field of a row object is how we get its index value.\n",
    "    rowdate = row.name\n",
    "    \n",
    "    deathcount = row['num_deaths_occurred_this_week']\n",
    "    for i in range(deathcount):\n",
    "        weeks_reporting_delay = int(max(0, random.gauss(4, 2)))\n",
    "        date_reporting = rowdate + timedelta(weeks_reporting_delay * 7)\n",
    "        \n",
    "        try:\n",
    "            row_reporting = df_experiment.loc[date_reporting]\n",
    "        except KeyError:\n",
    "            # This death won't be reported within the timeframe that we're modeling.\n",
    "            # It occurred within the timeframe, but it won't be reported unti \"the future\".\n",
    "            continue\n",
    "            \n",
    "        row_reporting['deaths_reported_after_gaussian_delay'] += 1\n",
    "        \n",
    "        \n",
    "df_experiment.apply(deaths_reported_after_gaussian_delay, axis=1)\n",
    "df_experiment.describe()"
   ]
  },
  {
   "cell_type": "code",
   "execution_count": 11,
   "metadata": {},
   "outputs": [
    {
     "data": {
      "image/png": "[encoded data removed]",
      "text/plain": [
       "<Figure size 432x288 with 1 Axes>"
      ]
     },
     "metadata": {
      "needs_background": "light"
     },
     "output_type": "display_data"
    }
   ],
   "source": [
    "df_experiment.plot()\n",
    "plt.show()"
   ]
  },
  {
   "cell_type": "markdown",
   "metadata": {},
   "source": [
    "### Results\n",
    "\n",
    "Clearly, the use of a Gaussian rather than uniform distribution has no effect on the shape of the curve."
   ]
  },
  {
   "cell_type": "markdown",
   "metadata": {},
   "source": [
    "## Experiment 1.c.: A fixed delay of 8 weeks\n",
    "\n",
    "What if we interpret is in the most braindead way possible: the reports get filed after a fixed delay of 8 weeks? It's pretty obvious why that's not the case."
   ]
  },
  {
   "cell_type": "code",
   "execution_count": 12,
   "metadata": {},
   "outputs": [
    {
     "data": {
      "text/html": [
       "<div>\n",
       "<style scoped>\n",
       "    .dataframe tbody tr th:only-of-type {\n",
       "        vertical-align: middle;\n",
       "    }\n",
       "\n",
       "    .dataframe tbody tr th {\n",
       "        vertical-align: top;\n",
       "    }\n",
       "\n",
       "    .dataframe thead th {\n",
       "        text-align: right;\n",
       "    }\n",
       "</style>\n",
       "<table border=\"1\" class=\"dataframe\">\n",
       "  <thead>\n",
       "    <tr style=\"text-align: right;\">\n",
       "      <th></th>\n",
       "      <th>num_deaths_occurred_this_week</th>\n",
       "      <th>deaths_reported_after_uniform_8wk_delay</th>\n",
       "      <th>deaths_reported_after_gaussian_delay</th>\n",
       "      <th>deaths_reported_after_fixed_8wk</th>\n",
       "    </tr>\n",
       "  </thead>\n",
       "  <tbody>\n",
       "    <tr>\n",
       "      <th>count</th>\n",
       "      <td>27.000000</td>\n",
       "      <td>27.00000</td>\n",
       "      <td>27.000000</td>\n",
       "      <td>27.000000</td>\n",
       "    </tr>\n",
       "    <tr>\n",
       "      <th>mean</th>\n",
       "      <td>7495.296296</td>\n",
       "      <td>2770.37037</td>\n",
       "      <td>2793.444444</td>\n",
       "      <td>507.851852</td>\n",
       "    </tr>\n",
       "    <tr>\n",
       "      <th>std</th>\n",
       "      <td>14289.292494</td>\n",
       "      <td>5278.55295</td>\n",
       "      <td>5313.881642</td>\n",
       "      <td>968.941997</td>\n",
       "    </tr>\n",
       "    <tr>\n",
       "      <th>min</th>\n",
       "      <td>10.000000</td>\n",
       "      <td>0.00000</td>\n",
       "      <td>0.000000</td>\n",
       "      <td>0.000000</td>\n",
       "    </tr>\n",
       "    <tr>\n",
       "      <th>25%</th>\n",
       "      <td>84.000000</td>\n",
       "      <td>31.50000</td>\n",
       "      <td>29.500000</td>\n",
       "      <td>0.000000</td>\n",
       "    </tr>\n",
       "    <tr>\n",
       "      <th>50%</th>\n",
       "      <td>730.000000</td>\n",
       "      <td>266.00000</td>\n",
       "      <td>268.000000</td>\n",
       "      <td>50.000000</td>\n",
       "    </tr>\n",
       "    <tr>\n",
       "      <th>75%</th>\n",
       "      <td>6583.000000</td>\n",
       "      <td>2409.50000</td>\n",
       "      <td>2460.000000</td>\n",
       "      <td>447.500000</td>\n",
       "    </tr>\n",
       "    <tr>\n",
       "      <th>max</th>\n",
       "      <td>57819.000000</td>\n",
       "      <td>21446.00000</td>\n",
       "      <td>21574.000000</td>\n",
       "      <td>3919.000000</td>\n",
       "    </tr>\n",
       "  </tbody>\n",
       "</table>\n",
       "</div>"
      ],
      "text/plain": [
       "       num_deaths_occurred_this_week  deaths_reported_after_uniform_8wk_delay  \\\n",
       "count                      27.000000                                 27.00000   \n",
       "mean                     7495.296296                               2770.37037   \n",
       "std                     14289.292494                               5278.55295   \n",
       "min                        10.000000                                  0.00000   \n",
       "25%                        84.000000                                 31.50000   \n",
       "50%                       730.000000                                266.00000   \n",
       "75%                      6583.000000                               2409.50000   \n",
       "max                     57819.000000                              21446.00000   \n",
       "\n",
       "       deaths_reported_after_gaussian_delay  deaths_reported_after_fixed_8wk  \n",
       "count                             27.000000                        27.000000  \n",
       "mean                            2793.444444                       507.851852  \n",
       "std                             5313.881642                       968.941997  \n",
       "min                                0.000000                         0.000000  \n",
       "25%                               29.500000                         0.000000  \n",
       "50%                              268.000000                        50.000000  \n",
       "75%                             2460.000000                       447.500000  \n",
       "max                            21574.000000                      3919.000000  "
      ]
     },
     "execution_count": 12,
     "metadata": {},
     "output_type": "execute_result"
    }
   ],
   "source": [
    "df_experiment['deaths_reported_after_fixed_8wk'] = 0\n",
    "\n",
    "def deaths_reported_after_fixed_8wk(row):\n",
    "    # The \"name\" field of a row object is how we get its index value.\n",
    "    rowdate = row.name\n",
    "    \n",
    "    deathcount = row['num_deaths_occurred_this_week']\n",
    "    for i in range(deathcount):\n",
    "        weeks_reporting_delay = 8\n",
    "        date_reporting = rowdate + timedelta(weeks_reporting_delay * 7)\n",
    "        \n",
    "        try:\n",
    "            row_reporting = df_experiment.loc[date_reporting]\n",
    "        except KeyError:\n",
    "            # This death won't be reported within the timeframe that we're modeling.\n",
    "            # It occurred within the timeframe, but it won't be reported unti \"the future\".\n",
    "            continue\n",
    "            \n",
    "        row_reporting['deaths_reported_after_fixed_8wk'] += 1\n",
    "        \n",
    "        \n",
    "df_experiment.apply(deaths_reported_after_fixed_8wk, axis=1)\n",
    "df_experiment.describe()"
   ]
  },
  {
   "cell_type": "code",
   "execution_count": 13,
   "metadata": {},
   "outputs": [
    {
     "data": {
      "image/png": "[encoded data removed]",
      "text/plain": [
       "<Figure size 432x288 with 1 Axes>"
      ]
     },
     "metadata": {
      "needs_background": "light"
     },
     "output_type": "display_data"
    }
   ],
   "source": [
    "df_experiment.plot()\n",
    "plt.show()"
   ]
  },
  {
   "cell_type": "markdown",
   "metadata": {},
   "source": [
    "### Results\n",
    "\n",
    "As we can see, all that did was shift the curve to the right by 8 weeks, exactly as expected."
   ]
  },
  {
   "cell_type": "markdown",
   "metadata": {},
   "source": [
    "# Experiment 2 (Proof-of-concept): Reporting Bottleneck with FIFO Processing\n",
    "\n",
    "What if the CDC could only receive and process a fixed number of death reports per week? And what if they processed those reports in the order they received them, as quickly as they could?"
   ]
  },
  {
   "cell_type": "code",
   "execution_count": 14,
   "metadata": {},
   "outputs": [],
   "source": [
    "df_experiment = df_init.copy()"
   ]
  },
  {
   "cell_type": "code",
   "execution_count": 15,
   "metadata": {},
   "outputs": [],
   "source": [
    "# We'll need a const variable to describe the max number of reports that the CDC \n",
    "# can perform in any given week.\n",
    "\n",
    "WEEKLY_PROCESSING_CAPACITY = 3000"
   ]
  },
  {
   "cell_type": "code",
   "execution_count": 16,
   "metadata": {},
   "outputs": [
    {
     "name": "stdout",
     "output_type": "stream",
     "text": [
      "2020-01-01: Counting 10 of 10 uncounted deaths from 2020-01-01\n",
      "2020-01-08: Counting 14 of 14 uncounted deaths from 2020-01-08\n",
      "2020-01-15: Counting 19 of 19 uncounted deaths from 2020-01-15\n",
      "2020-01-22: Counting 26 of 26 uncounted deaths from 2020-01-22\n",
      "2020-01-29: Counting 36 of 36 uncounted deaths from 2020-01-29\n",
      "2020-02-05: Counting 50 of 50 uncounted deaths from 2020-02-05\n",
      "2020-02-12: Counting 70 of 70 uncounted deaths from 2020-02-12\n",
      "2020-02-19: Counting 98 of 98 uncounted deaths from 2020-02-19\n",
      "2020-02-26: Counting 137 of 137 uncounted deaths from 2020-02-26\n",
      "2020-03-04: Counting 191 of 191 uncounted deaths from 2020-03-04\n",
      "2020-03-11: Counting 267 of 267 uncounted deaths from 2020-03-11\n",
      "2020-03-18: Counting 373 of 373 uncounted deaths from 2020-03-18\n",
      "2020-03-25: Counting 522 of 522 uncounted deaths from 2020-03-25\n",
      "2020-04-01: Counting 730 of 730 uncounted deaths from 2020-04-01\n",
      "2020-04-08: Counting 1021 of 1021 uncounted deaths from 2020-04-08\n",
      "2020-04-15: Counting 1429 of 1429 uncounted deaths from 2020-04-15\n",
      "2020-04-22: Counting 2000 of 2000 uncounted deaths from 2020-04-22\n",
      "2020-04-29: Counting 2800 of 2800 uncounted deaths from 2020-04-29\n",
      "2020-05-06: Counting 3000 of 3919 uncounted deaths from 2020-05-06\n",
      "2020-05-13: Counting 919 of 919 uncounted deaths from 2020-05-06\n",
      "2020-05-13: Counting 2081 of 5486 uncounted deaths from 2020-05-13\n",
      "2020-05-20: Counting 3000 of 3405 uncounted deaths from 2020-05-13\n",
      "2020-05-27: Counting 405 of 405 uncounted deaths from 2020-05-13\n",
      "2020-05-27: Counting 2595 of 7680 uncounted deaths from 2020-05-20\n",
      "2020-06-03: Counting 3000 of 5085 uncounted deaths from 2020-05-20\n",
      "2020-06-10: Counting 2085 of 2085 uncounted deaths from 2020-05-20\n",
      "2020-06-10: Counting 915 of 10752 uncounted deaths from 2020-05-27\n",
      "2020-06-17: Counting 3000 of 9837 uncounted deaths from 2020-05-27\n",
      "2020-06-24: Counting 3000 of 6837 uncounted deaths from 2020-05-27\n",
      "2020-07-01: Counting 3000 of 3837 uncounted deaths from 2020-05-27\n"
     ]
    }
   ],
   "source": [
    "# Model the CDC's processing of reports every week.\n",
    "# Every week, they go through the collection of deaths that haven't been processed yet,\n",
    "# and process as many as they can, in the order they've been received, up to a max\n",
    "# of BOTTLENECK for that week.\n",
    "\n",
    "df_experiment['deaths_counted'] = 0\n",
    "df_experiment['deaths_uncounted'] = df_experiment['num_deaths_occurred_this_week']\n",
    "\n",
    "# Because we need to rigidly enforce the order in which this processing takes place,\n",
    "# we're gonna use some terrible antipatterns here. Do not try this at home!\n",
    "\n",
    "for rowdate, row in df_experiment.iterrows():\n",
    "    processing_capacity_remaining = WEEKLY_PROCESSING_CAPACITY\n",
    "\n",
    "    for rowtocountdate, rowtocount in df_experiment.iterrows():\n",
    "        if processing_capacity_remaining <= 0:\n",
    "            # Can't process any more deaths this week.\n",
    "            break\n",
    "\n",
    "        if rowtocountdate > rowdate:\n",
    "            # Can't count rows that haven't happened yet!\n",
    "            break\n",
    "        \n",
    "        deaths_uncounted = rowtocount['deaths_uncounted']\n",
    "        if deaths_uncounted <= 0:\n",
    "            # No uncounted deaths to read from this row.\n",
    "            # Skip to the next one\n",
    "            continue\n",
    "        \n",
    "        deaths_counted_now = min(deaths_uncounted, processing_capacity_remaining)\n",
    "        \n",
    "        processing_capacity_remaining -= deaths_counted_now\n",
    "        df_experiment.loc[rowtocountdate, 'deaths_uncounted'] -= deaths_counted_now\n",
    "        df_experiment.loc[rowtocountdate, 'deaths_counted'] += deaths_counted_now\n",
    "        \n",
    "        print(f'{rowdate.strftime(\"%Y-%m-%d\")}: Counting {deaths_counted_now} of {deaths_uncounted} uncounted deaths from {rowtocountdate.strftime(\"%Y-%m-%d\")}')\n",
    "    "
   ]
  },
  {
   "cell_type": "code",
   "execution_count": 17,
   "metadata": {},
   "outputs": [
    {
     "data": {
      "image/png": "[encoded data removed]",
      "text/plain": [
       "<Figure size 432x288 with 1 Axes>"
      ]
     },
     "metadata": {
      "needs_background": "light"
     },
     "output_type": "display_data"
    }
   ],
   "source": [
    "df_experiment[['num_deaths_occurred_this_week', 'deaths_counted']].plot()\n",
    "plt.show()"
   ]
  },
  {
   "cell_type": "markdown",
   "metadata": {},
   "source": [
    "### Results\n",
    "\n",
    "As expected, the reported death count keeps up with the actual death count until such time as it exceeds the weekly processing capacity. At that point, the current death count is aliased across a span of one week. That is, it can report the full total of one week and the partial total of the following week, and all subsequent weeks are zero.\n",
    "\n",
    "In the original graph, we do not see this behavior. That is, we don't see a peak one week, a partial count the following week, and zeroes for all remaining weeks. We see a smooth line from the peak to the present. This probably means that the bottleneck is not processing its backlog in FIFO order, but at random."
   ]
  },
  {
   "cell_type": "markdown",
   "metadata": {},
   "source": [
    "# Experiment 3 (Hypothesis Test): Reporting Bottleneck with Uniform Random Processing\n",
    "\n",
    "What if the CDC could only receive and process a fixed number of death reports per week, as before?And what if they processed them as quickly as they could, as before? But instead of processing them in the order they receive them, they draw randomly from all outstanding reports available?"
   ]
  },
  {
   "cell_type": "code",
   "execution_count": 25,
   "metadata": {},
   "outputs": [],
   "source": [
    "df_experiment = df_init.copy()\n",
    "WEEKLY_PROCESSING_CAPACITY = 1000"
   ]
  },
  {
   "cell_type": "code",
   "execution_count": 26,
   "metadata": {},
   "outputs": [
    {
     "name": "stdout",
     "output_type": "stream",
     "text": [
      "Simulating CDC desk processing on 2020-01-01\n",
      "Simulating CDC desk processing on 2020-01-08\n",
      "Simulating CDC desk processing on 2020-01-15\n",
      "Simulating CDC desk processing on 2020-01-22\n",
      "Simulating CDC desk processing on 2020-01-29\n",
      "Simulating CDC desk processing on 2020-02-05\n",
      "Simulating CDC desk processing on 2020-02-12\n",
      "Simulating CDC desk processing on 2020-02-19\n",
      "Simulating CDC desk processing on 2020-02-26\n",
      "Simulating CDC desk processing on 2020-03-04\n",
      "Simulating CDC desk processing on 2020-03-11\n",
      "Simulating CDC desk processing on 2020-03-18\n",
      "Simulating CDC desk processing on 2020-03-25\n",
      "Simulating CDC desk processing on 2020-04-01\n",
      "Simulating CDC desk processing on 2020-04-08\n",
      "Simulating CDC desk processing on 2020-04-15\n",
      "Simulating CDC desk processing on 2020-04-22\n",
      "Simulating CDC desk processing on 2020-04-29\n",
      "Simulating CDC desk processing on 2020-05-06\n",
      "Simulating CDC desk processing on 2020-05-13\n",
      "Simulating CDC desk processing on 2020-05-20\n",
      "Simulating CDC desk processing on 2020-05-27\n",
      "Simulating CDC desk processing on 2020-06-03\n",
      "Simulating CDC desk processing on 2020-06-10\n",
      "Simulating CDC desk processing on 2020-06-17\n",
      "Simulating CDC desk processing on 2020-06-24\n",
      "Simulating CDC desk processing on 2020-07-01\n",
      "Total deaths counted: 15543\n"
     ]
    }
   ],
   "source": [
    "df_experiment['deaths_counted'] = 0\n",
    "df_experiment['deaths_uncounted'] = df_experiment['num_deaths_occurred_this_week']\n",
    "\n",
    "total_deaths_counted = 0\n",
    "for rowdate, row in df_experiment.iterrows():\n",
    "    print(f'Simulating CDC desk processing on {rowdate.strftime(\"%Y-%m-%d\")}')\n",
    "\n",
    "    # We're gonna use a horribly memory inefficient technique for drawing dates,\n",
    "    # because Python lets us and I can't be bothered with dealing with scikit right now.\n",
    "    date_candidates = []\n",
    "    \n",
    "    for rowtocountdate, rowtocount in df_experiment.iterrows():\n",
    "        if rowtocountdate > rowdate:\n",
    "            # Can't count rows that haven't happened yet!\n",
    "            break\n",
    "        deaths_uncounted = rowtocount['deaths_uncounted']\n",
    "        if deaths_uncounted <= 0:\n",
    "            continue\n",
    "            \n",
    "        da = [rowtocountdate] * deaths_uncounted\n",
    "        date_candidates += da\n",
    "                \n",
    "    # Draw from the candidate dates according to weight, without replacement,\n",
    "    # where \"weight\" is the number of uncounted reports on that date.\n",
    "    num_to_draw = min(WEEKLY_PROCESSING_CAPACITY, len(date_candidates))\n",
    "    death_dates_drawn = random.sample(date_candidates, num_to_draw)\n",
    "\n",
    "    for death_date in death_dates_drawn:\n",
    "        total_deaths_counted += 1\n",
    "        df_experiment.loc[death_date, 'deaths_counted'] += 1\n",
    "        df_experiment.loc[death_date, 'deaths_uncounted'] -= 1\n",
    "    \n",
    "print(f'Total deaths counted: {total_deaths_counted}')"
   ]
  },
  {
   "cell_type": "code",
   "execution_count": 27,
   "metadata": {},
   "outputs": [
    {
     "data": {
      "image/png": "[encoded data removed]",
      "text/plain": [
       "<Figure size 432x288 with 1 Axes>"
      ]
     },
     "metadata": {
      "needs_background": "light"
     },
     "output_type": "display_data"
    }
   ],
   "source": [
    "df_experiment[['deaths_counted']].plot()\n",
    "plt.show()"
   ]
  },
  {
   "cell_type": "markdown",
   "metadata": {},
   "source": [
    "### Results\n",
    "\n",
    "BOOM! *That* looks like the original graph! A smooth exponential growth curve makes a bend at its peak, resembling a Gaussian normal curve, and then flattens out into a linear downsloping tail"
   ]
  },
  {
   "cell_type": "code",
   "execution_count": null,
   "metadata": {},
   "outputs": [],
   "source": []
  }
 ],
 "metadata": {
  "kernelspec": {
   "display_name": "Python 3",
   "language": "python",
   "name": "python3"
  },
  "language_info": {
   "codemirror_mode": {
    "name": "ipython",
    "version": 3
   },
   "file_extension": ".py",
   "mimetype": "text/x-python",
   "name": "python",
   "nbconvert_exporter": "python",
   "pygments_lexer": "ipython3",
   "version": "3.7.3"
  }
 },
 "nbformat": 4,
 "nbformat_minor": 4
}
